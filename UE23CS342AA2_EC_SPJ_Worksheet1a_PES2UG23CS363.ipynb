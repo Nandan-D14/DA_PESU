{
 "cells": [
  {
   "cell_type": "markdown",
   "metadata": {},
   "source": [
    "Name:Nandan D \\\n",
    "Srn:PES2UG23CS363"
   ]
  },
  {
   "cell_type": "markdown",
   "metadata": {},
   "source": [
    "### Correlation Analysis\n",
    "UE23CS342AA2 - Data Analytics (S Sri Shaatvika - srishaatvika@gmail.com) <br>\n",
    "There are 5 sections in this worksheet covering different topics\n"
   ]
  },
  {
   "cell_type": "code",
   "execution_count": 1,
   "metadata": {
    "execution": {
     "iopub.execute_input": "2025-09-05T11:33:17.762400Z",
     "iopub.status.busy": "2025-09-05T11:33:17.760395Z",
     "iopub.status.idle": "2025-09-05T11:33:18.764315Z",
     "shell.execute_reply": "2025-09-05T11:33:18.762579Z"
    },
    "trusted": true,
    "vscode": {
     "languageId": "r"
    }
   },
   "outputs": [
    {
     "name": "stderr",
     "output_type": "stream",
     "text": [
      "\n",
      "Attaching package: ‘dplyr’\n",
      "\n",
      "\n",
      "The following objects are masked from ‘package:stats’:\n",
      "\n",
      "    filter, lag\n",
      "\n",
      "\n",
      "The following objects are masked from ‘package:base’:\n",
      "\n",
      "    intersect, setdiff, setequal, union\n",
      "\n",
      "\n",
      "\n",
      "Attaching package: ‘lubridate’\n",
      "\n",
      "\n",
      "The following objects are masked from ‘package:base’:\n",
      "\n",
      "    date, intersect, setdiff, union\n",
      "\n",
      "\n"
     ]
    }
   ],
   "source": [
    "library(dplyr)\n",
    "library(ggplot2)\n",
    "library(readr)\n",
    "library(lubridate)\n"
   ]
  },
  {
   "cell_type": "markdown",
   "metadata": {},
   "source": [
    "# About the Dataset\n",
    "**This analysis uses two datasets to explore the relationship between CO₂ levels and global temperatures:<br>\n",
    "carbon-dioxide: Contains monthly atmospheric CO₂ concentrations (ppm) recorded at Mauna Loa Observatory from 1958 onward.<br> \n",
    "climate-change-earth-surface-temperature: Provides monthly global temperature averages (land, ocean, combined) from 1850 onward, compiled by Berkeley Earth. For this worksheet we will be using the GlobalTemperatures.csv dataset.**\n",
    "\n",
    "**We focus on yearly averages and investigate how rising CO₂ levels relate to changes in global surface temperatures over time.** \n",
    "\n"
   ]
  },
  {
   "cell_type": "markdown",
   "metadata": {},
   "source": [
    "# Section 1: Data Loading and Exploration"
   ]
  },
  {
   "cell_type": "code",
   "execution_count": 2,
   "metadata": {
    "execution": {
     "iopub.execute_input": "2025-09-05T11:33:18.813683Z",
     "iopub.status.busy": "2025-09-05T11:33:18.768268Z",
     "iopub.status.idle": "2025-09-05T11:33:18.911922Z",
     "shell.execute_reply": "2025-09-05T11:33:18.909526Z"
    },
    "trusted": true,
    "vscode": {
     "languageId": "r"
    }
   },
   "outputs": [
    {
     "data": {
      "text/html": [
       "<table class=\"dataframe\">\n",
       "<caption>A data.frame: 6 × 9</caption>\n",
       "<thead>\n",
       "\t<tr><th></th><th scope=col>dt</th><th scope=col>LandAverageTemperature</th><th scope=col>LandAverageTemperatureUncertainty</th><th scope=col>LandMaxTemperature</th><th scope=col>LandMaxTemperatureUncertainty</th><th scope=col>LandMinTemperature</th><th scope=col>LandMinTemperatureUncertainty</th><th scope=col>LandAndOceanAverageTemperature</th><th scope=col>LandAndOceanAverageTemperatureUncertainty</th></tr>\n",
       "\t<tr><th></th><th scope=col>&lt;chr&gt;</th><th scope=col>&lt;dbl&gt;</th><th scope=col>&lt;dbl&gt;</th><th scope=col>&lt;dbl&gt;</th><th scope=col>&lt;dbl&gt;</th><th scope=col>&lt;dbl&gt;</th><th scope=col>&lt;dbl&gt;</th><th scope=col>&lt;dbl&gt;</th><th scope=col>&lt;dbl&gt;</th></tr>\n",
       "</thead>\n",
       "<tbody>\n",
       "\t<tr><th scope=row>1</th><td>1750-01-01</td><td> 3.034</td><td>3.574</td><td>NA</td><td>NA</td><td>NA</td><td>NA</td><td>NA</td><td>NA</td></tr>\n",
       "\t<tr><th scope=row>2</th><td>1750-02-01</td><td> 3.083</td><td>3.702</td><td>NA</td><td>NA</td><td>NA</td><td>NA</td><td>NA</td><td>NA</td></tr>\n",
       "\t<tr><th scope=row>3</th><td>1750-03-01</td><td> 5.626</td><td>3.076</td><td>NA</td><td>NA</td><td>NA</td><td>NA</td><td>NA</td><td>NA</td></tr>\n",
       "\t<tr><th scope=row>4</th><td>1750-04-01</td><td> 8.490</td><td>2.451</td><td>NA</td><td>NA</td><td>NA</td><td>NA</td><td>NA</td><td>NA</td></tr>\n",
       "\t<tr><th scope=row>5</th><td>1750-05-01</td><td>11.573</td><td>2.072</td><td>NA</td><td>NA</td><td>NA</td><td>NA</td><td>NA</td><td>NA</td></tr>\n",
       "\t<tr><th scope=row>6</th><td>1750-06-01</td><td>12.937</td><td>1.724</td><td>NA</td><td>NA</td><td>NA</td><td>NA</td><td>NA</td><td>NA</td></tr>\n",
       "</tbody>\n",
       "</table>\n"
      ],
      "text/latex": [
       "A data.frame: 6 × 9\n",
       "\\begin{tabular}{r|lllllllll}\n",
       "  & dt & LandAverageTemperature & LandAverageTemperatureUncertainty & LandMaxTemperature & LandMaxTemperatureUncertainty & LandMinTemperature & LandMinTemperatureUncertainty & LandAndOceanAverageTemperature & LandAndOceanAverageTemperatureUncertainty\\\\\n",
       "  & <chr> & <dbl> & <dbl> & <dbl> & <dbl> & <dbl> & <dbl> & <dbl> & <dbl>\\\\\n",
       "\\hline\n",
       "\t1 & 1750-01-01 &  3.034 & 3.574 & NA & NA & NA & NA & NA & NA\\\\\n",
       "\t2 & 1750-02-01 &  3.083 & 3.702 & NA & NA & NA & NA & NA & NA\\\\\n",
       "\t3 & 1750-03-01 &  5.626 & 3.076 & NA & NA & NA & NA & NA & NA\\\\\n",
       "\t4 & 1750-04-01 &  8.490 & 2.451 & NA & NA & NA & NA & NA & NA\\\\\n",
       "\t5 & 1750-05-01 & 11.573 & 2.072 & NA & NA & NA & NA & NA & NA\\\\\n",
       "\t6 & 1750-06-01 & 12.937 & 1.724 & NA & NA & NA & NA & NA & NA\\\\\n",
       "\\end{tabular}\n"
      ],
      "text/markdown": [
       "\n",
       "A data.frame: 6 × 9\n",
       "\n",
       "| <!--/--> | dt &lt;chr&gt; | LandAverageTemperature &lt;dbl&gt; | LandAverageTemperatureUncertainty &lt;dbl&gt; | LandMaxTemperature &lt;dbl&gt; | LandMaxTemperatureUncertainty &lt;dbl&gt; | LandMinTemperature &lt;dbl&gt; | LandMinTemperatureUncertainty &lt;dbl&gt; | LandAndOceanAverageTemperature &lt;dbl&gt; | LandAndOceanAverageTemperatureUncertainty &lt;dbl&gt; |\n",
       "|---|---|---|---|---|---|---|---|---|---|\n",
       "| 1 | 1750-01-01 |  3.034 | 3.574 | NA | NA | NA | NA | NA | NA |\n",
       "| 2 | 1750-02-01 |  3.083 | 3.702 | NA | NA | NA | NA | NA | NA |\n",
       "| 3 | 1750-03-01 |  5.626 | 3.076 | NA | NA | NA | NA | NA | NA |\n",
       "| 4 | 1750-04-01 |  8.490 | 2.451 | NA | NA | NA | NA | NA | NA |\n",
       "| 5 | 1750-05-01 | 11.573 | 2.072 | NA | NA | NA | NA | NA | NA |\n",
       "| 6 | 1750-06-01 | 12.937 | 1.724 | NA | NA | NA | NA | NA | NA |\n",
       "\n"
      ],
      "text/plain": [
       "  dt         LandAverageTemperature LandAverageTemperatureUncertainty\n",
       "1 1750-01-01  3.034                 3.574                            \n",
       "2 1750-02-01  3.083                 3.702                            \n",
       "3 1750-03-01  5.626                 3.076                            \n",
       "4 1750-04-01  8.490                 2.451                            \n",
       "5 1750-05-01 11.573                 2.072                            \n",
       "6 1750-06-01 12.937                 1.724                            \n",
       "  LandMaxTemperature LandMaxTemperatureUncertainty LandMinTemperature\n",
       "1 NA                 NA                            NA                \n",
       "2 NA                 NA                            NA                \n",
       "3 NA                 NA                            NA                \n",
       "4 NA                 NA                            NA                \n",
       "5 NA                 NA                            NA                \n",
       "6 NA                 NA                            NA                \n",
       "  LandMinTemperatureUncertainty LandAndOceanAverageTemperature\n",
       "1 NA                            NA                            \n",
       "2 NA                            NA                            \n",
       "3 NA                            NA                            \n",
       "4 NA                            NA                            \n",
       "5 NA                            NA                            \n",
       "6 NA                            NA                            \n",
       "  LandAndOceanAverageTemperatureUncertainty\n",
       "1 NA                                       \n",
       "2 NA                                       \n",
       "3 NA                                       \n",
       "4 NA                                       \n",
       "5 NA                                       \n",
       "6 NA                                       "
      ]
     },
     "metadata": {},
     "output_type": "display_data"
    },
    {
     "data": {
      "text/html": [
       "<style>\n",
       ".list-inline {list-style: none; margin:0; padding: 0}\n",
       ".list-inline>li {display: inline-block}\n",
       ".list-inline>li:not(:last-child)::after {content: \"\\00b7\"; padding: 0 .5ex}\n",
       "</style>\n",
       "<ol class=list-inline><li>315.42</li><li>316.31</li><li>316.5</li><li>317.56</li><li>318.13</li><li>318</li></ol>\n"
      ],
      "text/latex": [
       "\\begin{enumerate*}\n",
       "\\item 315.42\n",
       "\\item 316.31\n",
       "\\item 316.5\n",
       "\\item 317.56\n",
       "\\item 318.13\n",
       "\\item 318\n",
       "\\end{enumerate*}\n"
      ],
      "text/markdown": [
       "1. 315.42\n",
       "2. 316.31\n",
       "3. 316.5\n",
       "4. 317.56\n",
       "5. 318.13\n",
       "6. 318\n",
       "\n",
       "\n"
      ],
      "text/plain": [
       "[1] 315.42 316.31 316.50 317.56 318.13 318.00"
      ]
     },
     "metadata": {},
     "output_type": "display_data"
    }
   ],
   "source": [
    "#loading dataset \n",
    "temp_df <- read.csv(\"/kaggle/input/climate-change-earth-surface-temperature-data/GlobalTemperatures.csv\")\n",
    "head(temp_df)\n",
    "\n",
    "co2_df <- read.csv(\"/kaggle/input/carbon-dioxide/archive.csv\")\n",
    "head(co2)"
   ]
  },
  {
   "cell_type": "markdown",
   "metadata": {},
   "source": [
    "**Q1.1 (Optional but recommended) Analyse the columns and data structures. Rename them while performing analysis.**"
   ]
  },
  {
   "cell_type": "code",
   "execution_count": 3,
   "metadata": {
    "execution": {
     "iopub.execute_input": "2025-09-05T11:33:18.918851Z",
     "iopub.status.busy": "2025-09-05T11:33:18.916738Z",
     "iopub.status.idle": "2025-09-05T11:33:18.985618Z",
     "shell.execute_reply": "2025-09-05T11:33:18.982990Z"
    },
    "trusted": true,
    "vscode": {
     "languageId": "r"
    }
   },
   "outputs": [
    {
     "name": "stdout",
     "output_type": "stream",
     "text": [
      "'data.frame':\t3192 obs. of  9 variables:\n",
      " $ dt                                       : chr  \"1750-01-01\" \"1750-02-01\" \"1750-03-01\" \"1750-04-01\" ...\n",
      " $ LandAverageTemperature                   : num  3.03 3.08 5.63 8.49 11.57 ...\n",
      " $ LandAverageTemperatureUncertainty        : num  3.57 3.7 3.08 2.45 2.07 ...\n",
      " $ LandMaxTemperature                       : num  NA NA NA NA NA NA NA NA NA NA ...\n",
      " $ LandMaxTemperatureUncertainty            : num  NA NA NA NA NA NA NA NA NA NA ...\n",
      " $ LandMinTemperature                       : num  NA NA NA NA NA NA NA NA NA NA ...\n",
      " $ LandMinTemperatureUncertainty            : num  NA NA NA NA NA NA NA NA NA NA ...\n",
      " $ LandAndOceanAverageTemperature           : num  NA NA NA NA NA NA NA NA NA NA ...\n",
      " $ LandAndOceanAverageTemperatureUncertainty: num  NA NA NA NA NA NA NA NA NA NA ...\n",
      "'data.frame':\t720 obs. of  7 variables:\n",
      " $ Year                             : int  1958 1958 1958 1958 1958 1958 1958 1958 1958 1958 ...\n",
      " $ Month                            : int  1 2 3 4 5 6 7 8 9 10 ...\n",
      " $ Decimal.Date                     : num  1958 1958 1958 1958 1958 ...\n",
      " $ Carbon.Dioxide..ppm.             : num  NA NA 316 317 318 ...\n",
      " $ Seasonally.Adjusted.CO2..ppm.    : num  NA NA 314 315 315 ...\n",
      " $ Carbon.Dioxide.Fit..ppm.         : num  NA NA 316 317 318 ...\n",
      " $ Seasonally.Adjusted.CO2.Fit..ppm.: num  NA NA 315 315 315 ...\n"
     ]
    },
    {
     "data": {
      "text/html": [
       "' Columns Name :'"
      ],
      "text/latex": [
       "' Columns Name :'"
      ],
      "text/markdown": [
       "' Columns Name :'"
      ],
      "text/plain": [
       "[1] \" Columns Name :\""
      ]
     },
     "metadata": {},
     "output_type": "display_data"
    },
    {
     "data": {
      "text/html": [
       "<style>\n",
       ".list-inline {list-style: none; margin:0; padding: 0}\n",
       ".list-inline>li {display: inline-block}\n",
       ".list-inline>li:not(:last-child)::after {content: \"\\00b7\"; padding: 0 .5ex}\n",
       "</style>\n",
       "<ol class=list-inline><li>'dt'</li><li>'LandAverageTemperature'</li><li>'LandAverageTemperatureUncertainty'</li><li>'LandMaxTemperature'</li><li>'LandMaxTemperatureUncertainty'</li><li>'LandMinTemperature'</li><li>'LandMinTemperatureUncertainty'</li><li>'LandAndOceanAverageTemperature'</li><li>'LandAndOceanAverageTemperatureUncertainty'</li></ol>\n"
      ],
      "text/latex": [
       "\\begin{enumerate*}\n",
       "\\item 'dt'\n",
       "\\item 'LandAverageTemperature'\n",
       "\\item 'LandAverageTemperatureUncertainty'\n",
       "\\item 'LandMaxTemperature'\n",
       "\\item 'LandMaxTemperatureUncertainty'\n",
       "\\item 'LandMinTemperature'\n",
       "\\item 'LandMinTemperatureUncertainty'\n",
       "\\item 'LandAndOceanAverageTemperature'\n",
       "\\item 'LandAndOceanAverageTemperatureUncertainty'\n",
       "\\end{enumerate*}\n"
      ],
      "text/markdown": [
       "1. 'dt'\n",
       "2. 'LandAverageTemperature'\n",
       "3. 'LandAverageTemperatureUncertainty'\n",
       "4. 'LandMaxTemperature'\n",
       "5. 'LandMaxTemperatureUncertainty'\n",
       "6. 'LandMinTemperature'\n",
       "7. 'LandMinTemperatureUncertainty'\n",
       "8. 'LandAndOceanAverageTemperature'\n",
       "9. 'LandAndOceanAverageTemperatureUncertainty'\n",
       "\n",
       "\n"
      ],
      "text/plain": [
       "[1] \"dt\"                                       \n",
       "[2] \"LandAverageTemperature\"                   \n",
       "[3] \"LandAverageTemperatureUncertainty\"        \n",
       "[4] \"LandMaxTemperature\"                       \n",
       "[5] \"LandMaxTemperatureUncertainty\"            \n",
       "[6] \"LandMinTemperature\"                       \n",
       "[7] \"LandMinTemperatureUncertainty\"            \n",
       "[8] \"LandAndOceanAverageTemperature\"           \n",
       "[9] \"LandAndOceanAverageTemperatureUncertainty\""
      ]
     },
     "metadata": {},
     "output_type": "display_data"
    },
    {
     "data": {
      "text/html": [
       "<style>\n",
       ".list-inline {list-style: none; margin:0; padding: 0}\n",
       ".list-inline>li {display: inline-block}\n",
       ".list-inline>li:not(:last-child)::after {content: \"\\00b7\"; padding: 0 .5ex}\n",
       "</style>\n",
       "<ol class=list-inline><li>'Year'</li><li>'Month'</li><li>'Decimal.Date'</li><li>'Carbon.Dioxide..ppm.'</li><li>'Seasonally.Adjusted.CO2..ppm.'</li><li>'Carbon.Dioxide.Fit..ppm.'</li><li>'Seasonally.Adjusted.CO2.Fit..ppm.'</li></ol>\n"
      ],
      "text/latex": [
       "\\begin{enumerate*}\n",
       "\\item 'Year'\n",
       "\\item 'Month'\n",
       "\\item 'Decimal.Date'\n",
       "\\item 'Carbon.Dioxide..ppm.'\n",
       "\\item 'Seasonally.Adjusted.CO2..ppm.'\n",
       "\\item 'Carbon.Dioxide.Fit..ppm.'\n",
       "\\item 'Seasonally.Adjusted.CO2.Fit..ppm.'\n",
       "\\end{enumerate*}\n"
      ],
      "text/markdown": [
       "1. 'Year'\n",
       "2. 'Month'\n",
       "3. 'Decimal.Date'\n",
       "4. 'Carbon.Dioxide..ppm.'\n",
       "5. 'Seasonally.Adjusted.CO2..ppm.'\n",
       "6. 'Carbon.Dioxide.Fit..ppm.'\n",
       "7. 'Seasonally.Adjusted.CO2.Fit..ppm.'\n",
       "\n",
       "\n"
      ],
      "text/plain": [
       "[1] \"Year\"                              \"Month\"                            \n",
       "[3] \"Decimal.Date\"                      \"Carbon.Dioxide..ppm.\"             \n",
       "[5] \"Seasonally.Adjusted.CO2..ppm.\"     \"Carbon.Dioxide.Fit..ppm.\"         \n",
       "[7] \"Seasonally.Adjusted.CO2.Fit..ppm.\""
      ]
     },
     "metadata": {},
     "output_type": "display_data"
    }
   ],
   "source": [
    "str(temp_df)\n",
    "str(co2_df)  # str = structure\n",
    "\n",
    "' Columns Name :'\n",
    "colnames(temp_df)\n",
    "colnames(co2_df) "
   ]
  },
  {
   "cell_type": "code",
   "execution_count": 4,
   "metadata": {
    "execution": {
     "iopub.execute_input": "2025-09-05T11:33:19.000712Z",
     "iopub.status.busy": "2025-09-05T11:33:18.990894Z",
     "iopub.status.idle": "2025-09-05T11:33:19.031963Z",
     "shell.execute_reply": "2025-09-05T11:33:19.030125Z"
    },
    "trusted": true,
    "vscode": {
     "languageId": "r"
    }
   },
   "outputs": [
    {
     "data": {
      "text/plain": [
       "      dt            LandAverageTemperature LandAverageTemperatureUncertainty\n",
       " Length:3192        Min.   :-2.080         Min.   :0.0340                   \n",
       " Class :character   1st Qu.: 4.312         1st Qu.:0.1867                   \n",
       " Mode  :character   Median : 8.611         Median :0.3920                   \n",
       "                    Mean   : 8.375         Mean   :0.9385                   \n",
       "                    3rd Qu.:12.548         3rd Qu.:1.4192                   \n",
       "                    Max.   :19.021         Max.   :7.8800                   \n",
       "                    NA's   :12             NA's   :12                       \n",
       " LandMaxTemperature LandMaxTemperatureUncertainty LandMinTemperature\n",
       " Min.   : 5.90      Min.   :0.0440                Min.   :-5.407    \n",
       " 1st Qu.:10.21      1st Qu.:0.1420                1st Qu.:-1.335    \n",
       " Median :14.76      Median :0.2520                Median : 2.950    \n",
       " Mean   :14.35      Mean   :0.4798                Mean   : 2.744    \n",
       " 3rd Qu.:18.45      3rd Qu.:0.5390                3rd Qu.: 6.779    \n",
       " Max.   :21.32      Max.   :4.3730                Max.   : 9.715    \n",
       " NA's   :1200       NA's   :1200                  NA's   :1200      \n",
       " LandMinTemperatureUncertainty LandAndOceanAverageTemperature\n",
       " Min.   :0.0450                Min.   :12.47                 \n",
       " 1st Qu.:0.1550                1st Qu.:14.05                 \n",
       " Median :0.2790                Median :15.25                 \n",
       " Mean   :0.4318                Mean   :15.21                 \n",
       " 3rd Qu.:0.4582                3rd Qu.:16.40                 \n",
       " Max.   :3.4980                Max.   :17.61                 \n",
       " NA's   :1200                  NA's   :1200                  \n",
       " LandAndOceanAverageTemperatureUncertainty\n",
       " Min.   :0.0420                           \n",
       " 1st Qu.:0.0630                           \n",
       " Median :0.1220                           \n",
       " Mean   :0.1285                           \n",
       " 3rd Qu.:0.1510                           \n",
       " Max.   :0.4570                           \n",
       " NA's   :1200                             "
      ]
     },
     "metadata": {},
     "output_type": "display_data"
    },
    {
     "data": {
      "text/plain": [
       "      Year          Month        Decimal.Date  Carbon.Dioxide..ppm.\n",
       " Min.   :1958   Min.   : 1.00   Min.   :1958   Min.   :313.2       \n",
       " 1st Qu.:1973   1st Qu.: 3.75   1st Qu.:1973   1st Qu.:328.6       \n",
       " Median :1988   Median : 6.50   Median :1988   Median :349.8       \n",
       " Mean   :1988   Mean   : 6.50   Mean   :1988   Mean   :352.4       \n",
       " 3rd Qu.:2002   3rd Qu.: 9.25   3rd Qu.:2003   3rd Qu.:373.2       \n",
       " Max.   :2017   Max.   :12.00   Max.   :2018   Max.   :407.6       \n",
       "                                               NA's   :17          \n",
       " Seasonally.Adjusted.CO2..ppm. Carbon.Dioxide.Fit..ppm.\n",
       " Min.   :314.4                 Min.   :312.4           \n",
       " 1st Qu.:329.0                 1st Qu.:328.3           \n",
       " Median :349.8                 Median :349.4           \n",
       " Mean   :352.4                 Mean   :352.1           \n",
       " 3rd Qu.:372.9                 3rd Qu.:372.8           \n",
       " Max.   :406.0                 Max.   :407.3           \n",
       " NA's   :17                    NA's   :13              \n",
       " Seasonally.Adjusted.CO2.Fit..ppm.\n",
       " Min.   :314.9                    \n",
       " 1st Qu.:328.4                    \n",
       " Median :349.3                    \n",
       " Mean   :352.0                    \n",
       " 3rd Qu.:372.6                    \n",
       " Max.   :405.8                    \n",
       " NA's   :13                       "
      ]
     },
     "metadata": {},
     "output_type": "display_data"
    }
   ],
   "source": [
    "# summary \n",
    "summary(temp_df)\n",
    "summary(co2_df)"
   ]
  },
  {
   "cell_type": "code",
   "execution_count": 5,
   "metadata": {
    "execution": {
     "iopub.execute_input": "2025-09-05T11:33:19.036092Z",
     "iopub.status.busy": "2025-09-05T11:33:19.034693Z",
     "iopub.status.idle": "2025-09-05T11:33:19.054154Z",
     "shell.execute_reply": "2025-09-05T11:33:19.052345Z"
    },
    "trusted": true,
    "vscode": {
     "languageId": "r"
    }
   },
   "outputs": [
    {
     "name": "stdout",
     "output_type": "stream",
     "text": [
      "c(\"Year\", \"Month\", \"Decimal.Date\", \"Carbon.Dioxide..ppm.\", \"Seasonally.Adjusted.CO2..ppm.\", \n",
      "\"Carbon.Dioxide.Fit..ppm.\", \"Seasonally.Adjusted.CO2.Fit..ppm.\"\n",
      ")\n",
      "c(\"dt\", \"LandAverageTemperature\", \"LandAverageTemperatureUncertainty\", \n",
      "\"LandMaxTemperature\", \"LandMaxTemperatureUncertainty\", \"LandMinTemperature\", \n",
      "\"LandMinTemperatureUncertainty\", \"LandAndOceanAverageTemperature\", \n",
      "\"LandAndOceanAverageTemperatureUncertainty\")\n"
     ]
    }
   ],
   "source": [
    "colnames(co2_df) %>% dput()\n",
    "colnames(temp_df) %>% dput()\n"
   ]
  },
  {
   "cell_type": "code",
   "execution_count": 6,
   "metadata": {
    "execution": {
     "iopub.execute_input": "2025-09-05T11:33:19.058427Z",
     "iopub.status.busy": "2025-09-05T11:33:19.056980Z",
     "iopub.status.idle": "2025-09-05T11:33:19.130485Z",
     "shell.execute_reply": "2025-09-05T11:33:19.128722Z"
    },
    "trusted": true,
    "vscode": {
     "languageId": "r"
    }
   },
   "outputs": [
    {
     "data": {
      "text/html": [
       "'Before Renameing'"
      ],
      "text/latex": [
       "'Before Renameing'"
      ],
      "text/markdown": [
       "'Before Renameing'"
      ],
      "text/plain": [
       "[1] \"Before Renameing\""
      ]
     },
     "metadata": {},
     "output_type": "display_data"
    },
    {
     "data": {
      "text/html": [
       "'changed column names in co2 '"
      ],
      "text/latex": [
       "'changed column names in co2 '"
      ],
      "text/markdown": [
       "'changed column names in co2 '"
      ],
      "text/plain": [
       "[1] \"changed column names in co2 \""
      ]
     },
     "metadata": {},
     "output_type": "display_data"
    },
    {
     "data": {
      "text/html": [
       "<style>\n",
       ".list-inline {list-style: none; margin:0; padding: 0}\n",
       ".list-inline>li {display: inline-block}\n",
       ".list-inline>li:not(:last-child)::after {content: \"\\00b7\"; padding: 0 .5ex}\n",
       "</style>\n",
       "<ol class=list-inline><li>'Year'</li><li>'Month'</li><li>'Decimal.Date'</li><li>'Carbon.Dioxide..ppm.'</li><li>'Seasonally.Adjusted.CO2..ppm.'</li><li>'Carbon.Dioxide.Fit..ppm.'</li><li>'Seasonally.Adjusted.CO2.Fit..ppm.'</li></ol>\n"
      ],
      "text/latex": [
       "\\begin{enumerate*}\n",
       "\\item 'Year'\n",
       "\\item 'Month'\n",
       "\\item 'Decimal.Date'\n",
       "\\item 'Carbon.Dioxide..ppm.'\n",
       "\\item 'Seasonally.Adjusted.CO2..ppm.'\n",
       "\\item 'Carbon.Dioxide.Fit..ppm.'\n",
       "\\item 'Seasonally.Adjusted.CO2.Fit..ppm.'\n",
       "\\end{enumerate*}\n"
      ],
      "text/markdown": [
       "1. 'Year'\n",
       "2. 'Month'\n",
       "3. 'Decimal.Date'\n",
       "4. 'Carbon.Dioxide..ppm.'\n",
       "5. 'Seasonally.Adjusted.CO2..ppm.'\n",
       "6. 'Carbon.Dioxide.Fit..ppm.'\n",
       "7. 'Seasonally.Adjusted.CO2.Fit..ppm.'\n",
       "\n",
       "\n"
      ],
      "text/plain": [
       "[1] \"Year\"                              \"Month\"                            \n",
       "[3] \"Decimal.Date\"                      \"Carbon.Dioxide..ppm.\"             \n",
       "[5] \"Seasonally.Adjusted.CO2..ppm.\"     \"Carbon.Dioxide.Fit..ppm.\"         \n",
       "[7] \"Seasonally.Adjusted.CO2.Fit..ppm.\""
      ]
     },
     "metadata": {},
     "output_type": "display_data"
    },
    {
     "data": {
      "text/html": [
       "'changed column names in temperature '"
      ],
      "text/latex": [
       "'changed column names in temperature '"
      ],
      "text/markdown": [
       "'changed column names in temperature '"
      ],
      "text/plain": [
       "[1] \"changed column names in temperature \""
      ]
     },
     "metadata": {},
     "output_type": "display_data"
    },
    {
     "data": {
      "text/html": [
       "<style>\n",
       ".list-inline {list-style: none; margin:0; padding: 0}\n",
       ".list-inline>li {display: inline-block}\n",
       ".list-inline>li:not(:last-child)::after {content: \"\\00b7\"; padding: 0 .5ex}\n",
       "</style>\n",
       "<ol class=list-inline><li>'dt'</li><li>'LandAverageTemperature'</li><li>'LandAverageTemperatureUncertainty'</li><li>'LandMaxTemperature'</li><li>'LandMaxTemperatureUncertainty'</li><li>'LandMinTemperature'</li><li>'LandMinTemperatureUncertainty'</li><li>'LandAndOceanAverageTemperature'</li><li>'LandAndOceanAverageTemperatureUncertainty'</li></ol>\n"
      ],
      "text/latex": [
       "\\begin{enumerate*}\n",
       "\\item 'dt'\n",
       "\\item 'LandAverageTemperature'\n",
       "\\item 'LandAverageTemperatureUncertainty'\n",
       "\\item 'LandMaxTemperature'\n",
       "\\item 'LandMaxTemperatureUncertainty'\n",
       "\\item 'LandMinTemperature'\n",
       "\\item 'LandMinTemperatureUncertainty'\n",
       "\\item 'LandAndOceanAverageTemperature'\n",
       "\\item 'LandAndOceanAverageTemperatureUncertainty'\n",
       "\\end{enumerate*}\n"
      ],
      "text/markdown": [
       "1. 'dt'\n",
       "2. 'LandAverageTemperature'\n",
       "3. 'LandAverageTemperatureUncertainty'\n",
       "4. 'LandMaxTemperature'\n",
       "5. 'LandMaxTemperatureUncertainty'\n",
       "6. 'LandMinTemperature'\n",
       "7. 'LandMinTemperatureUncertainty'\n",
       "8. 'LandAndOceanAverageTemperature'\n",
       "9. 'LandAndOceanAverageTemperatureUncertainty'\n",
       "\n",
       "\n"
      ],
      "text/plain": [
       "[1] \"dt\"                                       \n",
       "[2] \"LandAverageTemperature\"                   \n",
       "[3] \"LandAverageTemperatureUncertainty\"        \n",
       "[4] \"LandMaxTemperature\"                       \n",
       "[5] \"LandMaxTemperatureUncertainty\"            \n",
       "[6] \"LandMinTemperature\"                       \n",
       "[7] \"LandMinTemperatureUncertainty\"            \n",
       "[8] \"LandAndOceanAverageTemperature\"           \n",
       "[9] \"LandAndOceanAverageTemperatureUncertainty\""
      ]
     },
     "metadata": {},
     "output_type": "display_data"
    },
    {
     "data": {
      "text/html": [
       "'After Renameing'"
      ],
      "text/latex": [
       "'After Renameing'"
      ],
      "text/markdown": [
       "'After Renameing'"
      ],
      "text/plain": [
       "[1] \"After Renameing\""
      ]
     },
     "metadata": {},
     "output_type": "display_data"
    },
    {
     "data": {
      "text/html": [
       "'changed column names in co2 '"
      ],
      "text/latex": [
       "'changed column names in co2 '"
      ],
      "text/markdown": [
       "'changed column names in co2 '"
      ],
      "text/plain": [
       "[1] \"changed column names in co2 \""
      ]
     },
     "metadata": {},
     "output_type": "display_data"
    },
    {
     "data": {
      "text/html": [
       "<style>\n",
       ".list-inline {list-style: none; margin:0; padding: 0}\n",
       ".list-inline>li {display: inline-block}\n",
       ".list-inline>li:not(:last-child)::after {content: \"\\00b7\"; padding: 0 .5ex}\n",
       "</style>\n",
       "<ol class=list-inline><li>'year'</li><li>'month'</li><li>'decimal_date'</li><li>'co2_ppm'</li><li>'co2_season_adj'</li><li>'co2_fit'</li><li>'co2_season_adj_fit'</li></ol>\n"
      ],
      "text/latex": [
       "\\begin{enumerate*}\n",
       "\\item 'year'\n",
       "\\item 'month'\n",
       "\\item 'decimal\\_date'\n",
       "\\item 'co2\\_ppm'\n",
       "\\item 'co2\\_season\\_adj'\n",
       "\\item 'co2\\_fit'\n",
       "\\item 'co2\\_season\\_adj\\_fit'\n",
       "\\end{enumerate*}\n"
      ],
      "text/markdown": [
       "1. 'year'\n",
       "2. 'month'\n",
       "3. 'decimal_date'\n",
       "4. 'co2_ppm'\n",
       "5. 'co2_season_adj'\n",
       "6. 'co2_fit'\n",
       "7. 'co2_season_adj_fit'\n",
       "\n",
       "\n"
      ],
      "text/plain": [
       "[1] \"year\"               \"month\"              \"decimal_date\"      \n",
       "[4] \"co2_ppm\"            \"co2_season_adj\"     \"co2_fit\"           \n",
       "[7] \"co2_season_adj_fit\""
      ]
     },
     "metadata": {},
     "output_type": "display_data"
    },
    {
     "data": {
      "text/html": [
       "'changed column names in temperature '"
      ],
      "text/latex": [
       "'changed column names in temperature '"
      ],
      "text/markdown": [
       "'changed column names in temperature '"
      ],
      "text/plain": [
       "[1] \"changed column names in temperature \""
      ]
     },
     "metadata": {},
     "output_type": "display_data"
    },
    {
     "data": {
      "text/html": [
       "<style>\n",
       ".list-inline {list-style: none; margin:0; padding: 0}\n",
       ".list-inline>li {display: inline-block}\n",
       ".list-inline>li:not(:last-child)::after {content: \"\\00b7\"; padding: 0 .5ex}\n",
       "</style>\n",
       "<ol class=list-inline><li>'date'</li><li>'land_temp'</li><li>'land_temp_unc'</li><li>'land_max_temp'</li><li>'land_max_temp_unc'</li><li>'land_min_temp'</li><li>'land_min_temp_unc'</li><li>'land_ocean_temp'</li><li>'land_ocean_temp_unc'</li></ol>\n"
      ],
      "text/latex": [
       "\\begin{enumerate*}\n",
       "\\item 'date'\n",
       "\\item 'land\\_temp'\n",
       "\\item 'land\\_temp\\_unc'\n",
       "\\item 'land\\_max\\_temp'\n",
       "\\item 'land\\_max\\_temp\\_unc'\n",
       "\\item 'land\\_min\\_temp'\n",
       "\\item 'land\\_min\\_temp\\_unc'\n",
       "\\item 'land\\_ocean\\_temp'\n",
       "\\item 'land\\_ocean\\_temp\\_unc'\n",
       "\\end{enumerate*}\n"
      ],
      "text/markdown": [
       "1. 'date'\n",
       "2. 'land_temp'\n",
       "3. 'land_temp_unc'\n",
       "4. 'land_max_temp'\n",
       "5. 'land_max_temp_unc'\n",
       "6. 'land_min_temp'\n",
       "7. 'land_min_temp_unc'\n",
       "8. 'land_ocean_temp'\n",
       "9. 'land_ocean_temp_unc'\n",
       "\n",
       "\n"
      ],
      "text/plain": [
       "[1] \"date\"                \"land_temp\"           \"land_temp_unc\"      \n",
       "[4] \"land_max_temp\"       \"land_max_temp_unc\"   \"land_min_temp\"      \n",
       "[7] \"land_min_temp_unc\"   \"land_ocean_temp\"     \"land_ocean_temp_unc\""
      ]
     },
     "metadata": {},
     "output_type": "display_data"
    }
   ],
   "source": [
    "\"Before Renameing\"\n",
    "\"changed column names in co2 \"\n",
    "colnames(co2_df)\n",
    "'changed column names in temperature '\n",
    "colnames(temp_df)\n",
    "\n",
    "# Fix column names (avoid NA/\"\")\n",
    "colnames(temp_df) <- make.names(colnames(temp_df), unique = TRUE)\n",
    "colnames(co2_df)  <- make.names(colnames(co2_df), unique = TRUE)\n",
    "\n",
    "colnames(co2_df) <- c(\"year\", \"month\", \"decimal_date\",\n",
    "                      \"co2_ppm\", \"co2_season_adj\",\n",
    "                      \"co2_fit\", \"co2_season_adj_fit\")\n",
    "\n",
    "colnames(temp_df) <- c(\"date\", \"land_temp\", \"land_temp_unc\",\n",
    "                       \"land_max_temp\", \"land_max_temp_unc\",\n",
    "                       \"land_min_temp\", \"land_min_temp_unc\",\n",
    "                       \"land_ocean_temp\", \"land_ocean_temp_unc\")\n",
    "\n",
    "\n",
    "# Remove columns with NA or \"\" in their names\n",
    "co2_df <- co2_df[, !is.na(colnames(co2_df)) & colnames(co2_df) != \"\"]\n",
    "temp_df <- temp_df[, !is.na(colnames(temp_df)) & colnames(temp_df) != \"\"]\n",
    "\n",
    "\"After Renameing\"\n",
    "\"changed column names in co2 \"\n",
    "colnames(co2_df)\n",
    "'changed column names in temperature '\n",
    "colnames(temp_df)"
   ]
  },
  {
   "cell_type": "markdown",
   "metadata": {},
   "source": [
    "# Section 2: Data Cleaning and Pre-processing <br>\n",
    "Prepare the datasets for analysis by handling missing values, standardizing formats, and ensuring data consistency.\n",
    "\n"
   ]
  },
  {
   "cell_type": "markdown",
   "metadata": {},
   "source": [
    "**Q 2.1 Identify and handle any missing values in both datasets. Justify your approach**"
   ]
  },
  {
   "cell_type": "code",
   "execution_count": 7,
   "metadata": {
    "execution": {
     "iopub.execute_input": "2025-09-05T11:33:19.134606Z",
     "iopub.status.busy": "2025-09-05T11:33:19.133088Z",
     "iopub.status.idle": "2025-09-05T11:33:19.156685Z",
     "shell.execute_reply": "2025-09-05T11:33:19.154912Z"
    },
    "trusted": true,
    "vscode": {
     "languageId": "r"
    }
   },
   "outputs": [
    {
     "data": {
      "text/html": [
       "<style>\n",
       ".dl-inline {width: auto; margin:0; padding: 0}\n",
       ".dl-inline>dt, .dl-inline>dd {float: none; width: auto; display: inline-block}\n",
       ".dl-inline>dt::after {content: \":\\0020\"; padding-right: .5ex}\n",
       ".dl-inline>dt:not(:first-of-type) {padding-left: .5ex}\n",
       "</style><dl class=dl-inline><dt>year</dt><dd>0</dd><dt>month</dt><dd>0</dd><dt>decimal_date</dt><dd>0</dd><dt>co2_ppm</dt><dd>17</dd><dt>co2_season_adj</dt><dd>17</dd><dt>co2_fit</dt><dd>13</dd><dt>co2_season_adj_fit</dt><dd>13</dd></dl>\n"
      ],
      "text/latex": [
       "\\begin{description*}\n",
       "\\item[year] 0\n",
       "\\item[month] 0\n",
       "\\item[decimal\\textbackslash{}\\_date] 0\n",
       "\\item[co2\\textbackslash{}\\_ppm] 17\n",
       "\\item[co2\\textbackslash{}\\_season\\textbackslash{}\\_adj] 17\n",
       "\\item[co2\\textbackslash{}\\_fit] 13\n",
       "\\item[co2\\textbackslash{}\\_season\\textbackslash{}\\_adj\\textbackslash{}\\_fit] 13\n",
       "\\end{description*}\n"
      ],
      "text/markdown": [
       "year\n",
       ":   0month\n",
       ":   0decimal_date\n",
       ":   0co2_ppm\n",
       ":   17co2_season_adj\n",
       ":   17co2_fit\n",
       ":   13co2_season_adj_fit\n",
       ":   13\n",
       "\n"
      ],
      "text/plain": [
       "              year              month       decimal_date            co2_ppm \n",
       "                 0                  0                  0                 17 \n",
       "    co2_season_adj            co2_fit co2_season_adj_fit \n",
       "                17                 13                 13 "
      ]
     },
     "metadata": {},
     "output_type": "display_data"
    },
    {
     "data": {
      "text/html": [
       "<style>\n",
       ".dl-inline {width: auto; margin:0; padding: 0}\n",
       ".dl-inline>dt, .dl-inline>dd {float: none; width: auto; display: inline-block}\n",
       ".dl-inline>dt::after {content: \":\\0020\"; padding-right: .5ex}\n",
       ".dl-inline>dt:not(:first-of-type) {padding-left: .5ex}\n",
       "</style><dl class=dl-inline><dt>date</dt><dd>0</dd><dt>land_temp</dt><dd>12</dd><dt>land_temp_unc</dt><dd>12</dd><dt>land_max_temp</dt><dd>1200</dd><dt>land_max_temp_unc</dt><dd>1200</dd><dt>land_min_temp</dt><dd>1200</dd><dt>land_min_temp_unc</dt><dd>1200</dd><dt>land_ocean_temp</dt><dd>1200</dd><dt>land_ocean_temp_unc</dt><dd>1200</dd></dl>\n"
      ],
      "text/latex": [
       "\\begin{description*}\n",
       "\\item[date] 0\n",
       "\\item[land\\textbackslash{}\\_temp] 12\n",
       "\\item[land\\textbackslash{}\\_temp\\textbackslash{}\\_unc] 12\n",
       "\\item[land\\textbackslash{}\\_max\\textbackslash{}\\_temp] 1200\n",
       "\\item[land\\textbackslash{}\\_max\\textbackslash{}\\_temp\\textbackslash{}\\_unc] 1200\n",
       "\\item[land\\textbackslash{}\\_min\\textbackslash{}\\_temp] 1200\n",
       "\\item[land\\textbackslash{}\\_min\\textbackslash{}\\_temp\\textbackslash{}\\_unc] 1200\n",
       "\\item[land\\textbackslash{}\\_ocean\\textbackslash{}\\_temp] 1200\n",
       "\\item[land\\textbackslash{}\\_ocean\\textbackslash{}\\_temp\\textbackslash{}\\_unc] 1200\n",
       "\\end{description*}\n"
      ],
      "text/markdown": [
       "date\n",
       ":   0land_temp\n",
       ":   12land_temp_unc\n",
       ":   12land_max_temp\n",
       ":   1200land_max_temp_unc\n",
       ":   1200land_min_temp\n",
       ":   1200land_min_temp_unc\n",
       ":   1200land_ocean_temp\n",
       ":   1200land_ocean_temp_unc\n",
       ":   1200\n",
       "\n"
      ],
      "text/plain": [
       "               date           land_temp       land_temp_unc       land_max_temp \n",
       "                  0                  12                  12                1200 \n",
       "  land_max_temp_unc       land_min_temp   land_min_temp_unc     land_ocean_temp \n",
       "               1200                1200                1200                1200 \n",
       "land_ocean_temp_unc \n",
       "               1200 "
      ]
     },
     "metadata": {},
     "output_type": "display_data"
    }
   ],
   "source": [
    "#Your code here \n",
    "colSums(is.na(co2_df))\n",
    "colSums(is.na(temp_df))"
   ]
  },
  {
   "cell_type": "code",
   "execution_count": 8,
   "metadata": {
    "execution": {
     "iopub.execute_input": "2025-09-05T11:33:19.160903Z",
     "iopub.status.busy": "2025-09-05T11:33:19.159397Z",
     "iopub.status.idle": "2025-09-05T11:33:19.183381Z",
     "shell.execute_reply": "2025-09-05T11:33:19.181633Z"
    },
    "trusted": true,
    "vscode": {
     "languageId": "r"
    }
   },
   "outputs": [
    {
     "data": {
      "text/html": [
       "<style>\n",
       ".dl-inline {width: auto; margin:0; padding: 0}\n",
       ".dl-inline>dt, .dl-inline>dd {float: none; width: auto; display: inline-block}\n",
       ".dl-inline>dt::after {content: \":\\0020\"; padding-right: .5ex}\n",
       ".dl-inline>dt:not(:first-of-type) {padding-left: .5ex}\n",
       "</style><dl class=dl-inline><dt>year</dt><dd>0</dd><dt>month</dt><dd>0</dd><dt>decimal_date</dt><dd>0</dd><dt>co2_ppm</dt><dd>17</dd><dt>co2_season_adj</dt><dd>17</dd><dt>co2_fit</dt><dd>13</dd><dt>co2_season_adj_fit</dt><dd>13</dd></dl>\n"
      ],
      "text/latex": [
       "\\begin{description*}\n",
       "\\item[year] 0\n",
       "\\item[month] 0\n",
       "\\item[decimal\\textbackslash{}\\_date] 0\n",
       "\\item[co2\\textbackslash{}\\_ppm] 17\n",
       "\\item[co2\\textbackslash{}\\_season\\textbackslash{}\\_adj] 17\n",
       "\\item[co2\\textbackslash{}\\_fit] 13\n",
       "\\item[co2\\textbackslash{}\\_season\\textbackslash{}\\_adj\\textbackslash{}\\_fit] 13\n",
       "\\end{description*}\n"
      ],
      "text/markdown": [
       "year\n",
       ":   0month\n",
       ":   0decimal_date\n",
       ":   0co2_ppm\n",
       ":   17co2_season_adj\n",
       ":   17co2_fit\n",
       ":   13co2_season_adj_fit\n",
       ":   13\n",
       "\n"
      ],
      "text/plain": [
       "              year              month       decimal_date            co2_ppm \n",
       "                 0                  0                  0                 17 \n",
       "    co2_season_adj            co2_fit co2_season_adj_fit \n",
       "                17                 13                 13 "
      ]
     },
     "metadata": {},
     "output_type": "display_data"
    },
    {
     "data": {
      "text/html": [
       "<style>\n",
       ".dl-inline {width: auto; margin:0; padding: 0}\n",
       ".dl-inline>dt, .dl-inline>dd {float: none; width: auto; display: inline-block}\n",
       ".dl-inline>dt::after {content: \":\\0020\"; padding-right: .5ex}\n",
       ".dl-inline>dt:not(:first-of-type) {padding-left: .5ex}\n",
       "</style><dl class=dl-inline><dt>date</dt><dd>0</dd><dt>land_temp</dt><dd>12</dd><dt>land_temp_unc</dt><dd>12</dd><dt>land_max_temp</dt><dd>1200</dd><dt>land_max_temp_unc</dt><dd>1200</dd><dt>land_min_temp</dt><dd>1200</dd><dt>land_min_temp_unc</dt><dd>1200</dd><dt>land_ocean_temp</dt><dd>1200</dd><dt>land_ocean_temp_unc</dt><dd>1200</dd></dl>\n"
      ],
      "text/latex": [
       "\\begin{description*}\n",
       "\\item[date] 0\n",
       "\\item[land\\textbackslash{}\\_temp] 12\n",
       "\\item[land\\textbackslash{}\\_temp\\textbackslash{}\\_unc] 12\n",
       "\\item[land\\textbackslash{}\\_max\\textbackslash{}\\_temp] 1200\n",
       "\\item[land\\textbackslash{}\\_max\\textbackslash{}\\_temp\\textbackslash{}\\_unc] 1200\n",
       "\\item[land\\textbackslash{}\\_min\\textbackslash{}\\_temp] 1200\n",
       "\\item[land\\textbackslash{}\\_min\\textbackslash{}\\_temp\\textbackslash{}\\_unc] 1200\n",
       "\\item[land\\textbackslash{}\\_ocean\\textbackslash{}\\_temp] 1200\n",
       "\\item[land\\textbackslash{}\\_ocean\\textbackslash{}\\_temp\\textbackslash{}\\_unc] 1200\n",
       "\\end{description*}\n"
      ],
      "text/markdown": [
       "date\n",
       ":   0land_temp\n",
       ":   12land_temp_unc\n",
       ":   12land_max_temp\n",
       ":   1200land_max_temp_unc\n",
       ":   1200land_min_temp\n",
       ":   1200land_min_temp_unc\n",
       ":   1200land_ocean_temp\n",
       ":   1200land_ocean_temp_unc\n",
       ":   1200\n",
       "\n"
      ],
      "text/plain": [
       "               date           land_temp       land_temp_unc       land_max_temp \n",
       "                  0                  12                  12                1200 \n",
       "  land_max_temp_unc       land_min_temp   land_min_temp_unc     land_ocean_temp \n",
       "               1200                1200                1200                1200 \n",
       "land_ocean_temp_unc \n",
       "               1200 "
      ]
     },
     "metadata": {},
     "output_type": "display_data"
    }
   ],
   "source": [
    "#Your code\n",
    "# temp_df <- temp_df %>% filter(!is.na(LandOceanTemp))\n",
    "colSums(is.na(co2_df))\n",
    "colSums(is.na(temp_df))"
   ]
  },
  {
   "cell_type": "code",
   "execution_count": 9,
   "metadata": {
    "execution": {
     "iopub.execute_input": "2025-09-05T11:33:19.187554Z",
     "iopub.status.busy": "2025-09-05T11:33:19.186089Z",
     "iopub.status.idle": "2025-09-05T11:33:19.205056Z",
     "shell.execute_reply": "2025-09-05T11:33:19.203325Z"
    },
    "trusted": true,
    "vscode": {
     "languageId": "r"
    }
   },
   "outputs": [],
   "source": [
    "# temp_df <- temp_df %>% filter(!is.na(LandOceanTemp))\n",
    "temp_df <- temp_df %>% na.omit()\n",
    "co2_df  <- co2_df %>% na.omit()\n"
   ]
  },
  {
   "cell_type": "markdown",
   "metadata": {},
   "source": [
    "**Q 2.2 The Date columns are not properly formatted for merging datasets or to perform any analysis. Clean the date column in both datasets and merge based on \"Year\"** <br>\n",
    "*Hint: You will have to average annual temperatures in the temperatures dataframe and the monthly CO2 values in the CO2 values dataframe.*\n",
    "*Ensure that you do this for all the temperature metrics*"
   ]
  },
  {
   "cell_type": "code",
   "execution_count": 10,
   "metadata": {
    "execution": {
     "iopub.execute_input": "2025-09-05T11:33:19.209260Z",
     "iopub.status.busy": "2025-09-05T11:33:19.207850Z",
     "iopub.status.idle": "2025-09-05T11:33:19.334827Z",
     "shell.execute_reply": "2025-09-05T11:33:19.333023Z"
    },
    "trusted": true,
    "vscode": {
     "languageId": "r"
    }
   },
   "outputs": [
    {
     "data": {
      "text/html": [
       "<table class=\"dataframe\">\n",
       "<caption>A tibble: 6 × 13</caption>\n",
       "<thead>\n",
       "\t<tr><th scope=col>year</th><th scope=col>land_temp</th><th scope=col>land_temp_unc</th><th scope=col>land_max_temp</th><th scope=col>land_max_temp_unc</th><th scope=col>land_min_temp</th><th scope=col>land_min_temp_unc</th><th scope=col>land_ocean_temp</th><th scope=col>land_ocean_temp_unc</th><th scope=col>co2_ppm</th><th scope=col>co2_season_adj</th><th scope=col>co2_fit</th><th scope=col>co2_season_adj_fit</th></tr>\n",
       "\t<tr><th scope=col>&lt;dbl&gt;</th><th scope=col>&lt;dbl&gt;</th><th scope=col>&lt;dbl&gt;</th><th scope=col>&lt;dbl&gt;</th><th scope=col>&lt;dbl&gt;</th><th scope=col>&lt;dbl&gt;</th><th scope=col>&lt;dbl&gt;</th><th scope=col>&lt;dbl&gt;</th><th scope=col>&lt;dbl&gt;</th><th scope=col>&lt;dbl&gt;</th><th scope=col>&lt;dbl&gt;</th><th scope=col>&lt;dbl&gt;</th><th scope=col>&lt;dbl&gt;</th></tr>\n",
       "</thead>\n",
       "<tbody>\n",
       "\t<tr><td>1958</td><td>8.773750</td><td>0.10433333</td><td>14.47750</td><td>0.1610000</td><td>3.114500</td><td>0.1725833</td><td>15.38208</td><td>0.07450000</td><td>315.3300</td><td>315.2925</td><td>315.2538</td><td>315.2188</td></tr>\n",
       "\t<tr><td>1959</td><td>8.732667</td><td>0.10716667</td><td>14.41650</td><td>0.1500833</td><td>3.108583</td><td>0.1491667</td><td>15.34050</td><td>0.07391667</td><td>315.9817</td><td>315.9767</td><td>315.9983</td><td>315.9942</td></tr>\n",
       "\t<tr><td>1960</td><td>8.583750</td><td>0.09350000</td><td>14.31742</td><td>0.1494167</td><td>2.932583</td><td>0.1375833</td><td>15.29192</td><td>0.06933333</td><td>316.9083</td><td>316.9067</td><td>316.9058</td><td>316.9050</td></tr>\n",
       "\t<tr><td>1961</td><td>8.797667</td><td>0.09700000</td><td>14.51492</td><td>0.1657500</td><td>3.128750</td><td>0.1817500</td><td>15.37992</td><td>0.06716667</td><td>317.6450</td><td>317.6400</td><td>317.6292</td><td>317.6250</td></tr>\n",
       "\t<tr><td>1962</td><td>8.745917</td><td>0.13291667</td><td>14.54017</td><td>0.1589167</td><td>3.008583</td><td>0.2044167</td><td>15.32558</td><td>0.07250000</td><td>318.4533</td><td>318.4483</td><td>318.4550</td><td>318.4500</td></tr>\n",
       "\t<tr><td>1963</td><td>8.856000</td><td>0.09233333</td><td>14.61225</td><td>0.1527500</td><td>3.157583</td><td>0.1824167</td><td>15.37667</td><td>0.06833333</td><td>318.9925</td><td>318.9867</td><td>319.0250</td><td>319.0183</td></tr>\n",
       "</tbody>\n",
       "</table>\n"
      ],
      "text/latex": [
       "A tibble: 6 × 13\n",
       "\\begin{tabular}{lllllllllllll}\n",
       " year & land\\_temp & land\\_temp\\_unc & land\\_max\\_temp & land\\_max\\_temp\\_unc & land\\_min\\_temp & land\\_min\\_temp\\_unc & land\\_ocean\\_temp & land\\_ocean\\_temp\\_unc & co2\\_ppm & co2\\_season\\_adj & co2\\_fit & co2\\_season\\_adj\\_fit\\\\\n",
       " <dbl> & <dbl> & <dbl> & <dbl> & <dbl> & <dbl> & <dbl> & <dbl> & <dbl> & <dbl> & <dbl> & <dbl> & <dbl>\\\\\n",
       "\\hline\n",
       "\t 1958 & 8.773750 & 0.10433333 & 14.47750 & 0.1610000 & 3.114500 & 0.1725833 & 15.38208 & 0.07450000 & 315.3300 & 315.2925 & 315.2538 & 315.2188\\\\\n",
       "\t 1959 & 8.732667 & 0.10716667 & 14.41650 & 0.1500833 & 3.108583 & 0.1491667 & 15.34050 & 0.07391667 & 315.9817 & 315.9767 & 315.9983 & 315.9942\\\\\n",
       "\t 1960 & 8.583750 & 0.09350000 & 14.31742 & 0.1494167 & 2.932583 & 0.1375833 & 15.29192 & 0.06933333 & 316.9083 & 316.9067 & 316.9058 & 316.9050\\\\\n",
       "\t 1961 & 8.797667 & 0.09700000 & 14.51492 & 0.1657500 & 3.128750 & 0.1817500 & 15.37992 & 0.06716667 & 317.6450 & 317.6400 & 317.6292 & 317.6250\\\\\n",
       "\t 1962 & 8.745917 & 0.13291667 & 14.54017 & 0.1589167 & 3.008583 & 0.2044167 & 15.32558 & 0.07250000 & 318.4533 & 318.4483 & 318.4550 & 318.4500\\\\\n",
       "\t 1963 & 8.856000 & 0.09233333 & 14.61225 & 0.1527500 & 3.157583 & 0.1824167 & 15.37667 & 0.06833333 & 318.9925 & 318.9867 & 319.0250 & 319.0183\\\\\n",
       "\\end{tabular}\n"
      ],
      "text/markdown": [
       "\n",
       "A tibble: 6 × 13\n",
       "\n",
       "| year &lt;dbl&gt; | land_temp &lt;dbl&gt; | land_temp_unc &lt;dbl&gt; | land_max_temp &lt;dbl&gt; | land_max_temp_unc &lt;dbl&gt; | land_min_temp &lt;dbl&gt; | land_min_temp_unc &lt;dbl&gt; | land_ocean_temp &lt;dbl&gt; | land_ocean_temp_unc &lt;dbl&gt; | co2_ppm &lt;dbl&gt; | co2_season_adj &lt;dbl&gt; | co2_fit &lt;dbl&gt; | co2_season_adj_fit &lt;dbl&gt; |\n",
       "|---|---|---|---|---|---|---|---|---|---|---|---|---|\n",
       "| 1958 | 8.773750 | 0.10433333 | 14.47750 | 0.1610000 | 3.114500 | 0.1725833 | 15.38208 | 0.07450000 | 315.3300 | 315.2925 | 315.2538 | 315.2188 |\n",
       "| 1959 | 8.732667 | 0.10716667 | 14.41650 | 0.1500833 | 3.108583 | 0.1491667 | 15.34050 | 0.07391667 | 315.9817 | 315.9767 | 315.9983 | 315.9942 |\n",
       "| 1960 | 8.583750 | 0.09350000 | 14.31742 | 0.1494167 | 2.932583 | 0.1375833 | 15.29192 | 0.06933333 | 316.9083 | 316.9067 | 316.9058 | 316.9050 |\n",
       "| 1961 | 8.797667 | 0.09700000 | 14.51492 | 0.1657500 | 3.128750 | 0.1817500 | 15.37992 | 0.06716667 | 317.6450 | 317.6400 | 317.6292 | 317.6250 |\n",
       "| 1962 | 8.745917 | 0.13291667 | 14.54017 | 0.1589167 | 3.008583 | 0.2044167 | 15.32558 | 0.07250000 | 318.4533 | 318.4483 | 318.4550 | 318.4500 |\n",
       "| 1963 | 8.856000 | 0.09233333 | 14.61225 | 0.1527500 | 3.157583 | 0.1824167 | 15.37667 | 0.06833333 | 318.9925 | 318.9867 | 319.0250 | 319.0183 |\n",
       "\n"
      ],
      "text/plain": [
       "  year land_temp land_temp_unc land_max_temp land_max_temp_unc land_min_temp\n",
       "1 1958 8.773750  0.10433333    14.47750      0.1610000         3.114500     \n",
       "2 1959 8.732667  0.10716667    14.41650      0.1500833         3.108583     \n",
       "3 1960 8.583750  0.09350000    14.31742      0.1494167         2.932583     \n",
       "4 1961 8.797667  0.09700000    14.51492      0.1657500         3.128750     \n",
       "5 1962 8.745917  0.13291667    14.54017      0.1589167         3.008583     \n",
       "6 1963 8.856000  0.09233333    14.61225      0.1527500         3.157583     \n",
       "  land_min_temp_unc land_ocean_temp land_ocean_temp_unc co2_ppm  co2_season_adj\n",
       "1 0.1725833         15.38208        0.07450000          315.3300 315.2925      \n",
       "2 0.1491667         15.34050        0.07391667          315.9817 315.9767      \n",
       "3 0.1375833         15.29192        0.06933333          316.9083 316.9067      \n",
       "4 0.1817500         15.37992        0.06716667          317.6450 317.6400      \n",
       "5 0.2044167         15.32558        0.07250000          318.4533 318.4483      \n",
       "6 0.1824167         15.37667        0.06833333          318.9925 318.9867      \n",
       "  co2_fit  co2_season_adj_fit\n",
       "1 315.2538 315.2188          \n",
       "2 315.9983 315.9942          \n",
       "3 316.9058 316.9050          \n",
       "4 317.6292 317.6250          \n",
       "5 318.4550 318.4500          \n",
       "6 319.0250 319.0183          "
      ]
     },
     "metadata": {},
     "output_type": "display_data"
    }
   ],
   "source": [
    "\n",
    "# Clean up date formats\n",
    "temp_df <- temp_df %>%\n",
    "  mutate(\n",
    "    date = as.Date(date),                # convert string → Date\n",
    "    year = year(date),                   # extract year\n",
    "    month = month(date)                  # extract month\n",
    "  )\n",
    "\n",
    "co2_df <- co2_df %>%\n",
    "  mutate(\n",
    "    year = as.integer(year),             # make sure year is numeric\n",
    "    month = as.integer(month)            # make sure month is numeric\n",
    "  )\n",
    "\n",
    "# group by year & take mean for ALL metrics\n",
    "temp_yearly <- temp_df %>%\n",
    "  group_by(year) %>%\n",
    "  summarise(\n",
    "    land_temp = mean(land_temp, na.rm = TRUE),\n",
    "    land_temp_unc = mean(land_temp_unc, na.rm = TRUE),\n",
    "    land_max_temp = mean(land_max_temp, na.rm = TRUE),\n",
    "    land_max_temp_unc = mean(land_max_temp_unc, na.rm = TRUE),\n",
    "    land_min_temp = mean(land_min_temp, na.rm = TRUE),\n",
    "    land_min_temp_unc = mean(land_min_temp_unc, na.rm = TRUE),\n",
    "    land_ocean_temp = mean(land_ocean_temp, na.rm = TRUE),\n",
    "    land_ocean_temp_unc = mean(land_ocean_temp_unc, na.rm = TRUE)\n",
    "  )\n",
    "\n",
    "#group by year & take mean of monthly values\n",
    "co2_yearly <- co2_df %>%\n",
    "  group_by(year) %>%\n",
    "  summarise(\n",
    "    co2_ppm = mean(co2_ppm, na.rm = TRUE),\n",
    "    co2_season_adj = mean(co2_season_adj, na.rm = TRUE),\n",
    "    co2_fit = mean(co2_fit, na.rm = TRUE),\n",
    "    co2_season_adj_fit = mean(co2_season_adj_fit, na.rm = TRUE)\n",
    "  )\n",
    "\n",
    "# Merge datasets on \"year\"\n",
    "merged_df <- inner_join(temp_yearly, co2_yearly, by = \"year\")\n",
    "\n",
    "\n",
    "head(merged_df)\n"
   ]
  },
  {
   "cell_type": "code",
   "execution_count": 11,
   "metadata": {
    "execution": {
     "iopub.execute_input": "2025-09-05T11:33:19.338897Z",
     "iopub.status.busy": "2025-09-05T11:33:19.337442Z",
     "iopub.status.idle": "2025-09-05T11:33:19.365050Z",
     "shell.execute_reply": "2025-09-05T11:33:19.363270Z"
    },
    "trusted": true,
    "vscode": {
     "languageId": "r"
    }
   },
   "outputs": [
    {
     "data": {
      "text/html": [
       "<style>\n",
       ".dl-inline {width: auto; margin:0; padding: 0}\n",
       ".dl-inline>dt, .dl-inline>dd {float: none; width: auto; display: inline-block}\n",
       ".dl-inline>dt::after {content: \":\\0020\"; padding-right: .5ex}\n",
       ".dl-inline>dt:not(:first-of-type) {padding-left: .5ex}\n",
       "</style><dl class=dl-inline><dt>year</dt><dd>0</dd><dt>land_temp</dt><dd>0</dd><dt>land_temp_unc</dt><dd>0</dd><dt>land_max_temp</dt><dd>0</dd><dt>land_max_temp_unc</dt><dd>0</dd><dt>land_min_temp</dt><dd>0</dd><dt>land_min_temp_unc</dt><dd>0</dd><dt>land_ocean_temp</dt><dd>0</dd><dt>land_ocean_temp_unc</dt><dd>0</dd><dt>co2_ppm</dt><dd>0</dd><dt>co2_season_adj</dt><dd>0</dd><dt>co2_fit</dt><dd>0</dd><dt>co2_season_adj_fit</dt><dd>0</dd></dl>\n"
      ],
      "text/latex": [
       "\\begin{description*}\n",
       "\\item[year] 0\n",
       "\\item[land\\textbackslash{}\\_temp] 0\n",
       "\\item[land\\textbackslash{}\\_temp\\textbackslash{}\\_unc] 0\n",
       "\\item[land\\textbackslash{}\\_max\\textbackslash{}\\_temp] 0\n",
       "\\item[land\\textbackslash{}\\_max\\textbackslash{}\\_temp\\textbackslash{}\\_unc] 0\n",
       "\\item[land\\textbackslash{}\\_min\\textbackslash{}\\_temp] 0\n",
       "\\item[land\\textbackslash{}\\_min\\textbackslash{}\\_temp\\textbackslash{}\\_unc] 0\n",
       "\\item[land\\textbackslash{}\\_ocean\\textbackslash{}\\_temp] 0\n",
       "\\item[land\\textbackslash{}\\_ocean\\textbackslash{}\\_temp\\textbackslash{}\\_unc] 0\n",
       "\\item[co2\\textbackslash{}\\_ppm] 0\n",
       "\\item[co2\\textbackslash{}\\_season\\textbackslash{}\\_adj] 0\n",
       "\\item[co2\\textbackslash{}\\_fit] 0\n",
       "\\item[co2\\textbackslash{}\\_season\\textbackslash{}\\_adj\\textbackslash{}\\_fit] 0\n",
       "\\end{description*}\n"
      ],
      "text/markdown": [
       "year\n",
       ":   0land_temp\n",
       ":   0land_temp_unc\n",
       ":   0land_max_temp\n",
       ":   0land_max_temp_unc\n",
       ":   0land_min_temp\n",
       ":   0land_min_temp_unc\n",
       ":   0land_ocean_temp\n",
       ":   0land_ocean_temp_unc\n",
       ":   0co2_ppm\n",
       ":   0co2_season_adj\n",
       ":   0co2_fit\n",
       ":   0co2_season_adj_fit\n",
       ":   0\n",
       "\n"
      ],
      "text/plain": [
       "               year           land_temp       land_temp_unc       land_max_temp \n",
       "                  0                   0                   0                   0 \n",
       "  land_max_temp_unc       land_min_temp   land_min_temp_unc     land_ocean_temp \n",
       "                  0                   0                   0                   0 \n",
       "land_ocean_temp_unc             co2_ppm      co2_season_adj             co2_fit \n",
       "                  0                   0                   0                   0 \n",
       " co2_season_adj_fit \n",
       "                  0 "
      ]
     },
     "metadata": {},
     "output_type": "display_data"
    },
    {
     "data": {
      "text/plain": [
       "      year        land_temp     land_temp_unc     land_max_temp  \n",
       " Min.   :1958   Min.   :8.347   Min.   :0.06208   Min.   :14.01  \n",
       " 1st Qu.:1972   1st Qu.:8.700   1st Qu.:0.08342   1st Qu.:14.39  \n",
       " Median :1986   Median :8.964   Median :0.08771   Median :14.65  \n",
       " Mean   :1986   Mean   :9.030   Mean   :0.08975   Mean   :14.73  \n",
       " 3rd Qu.:2001   3rd Qu.:9.398   3rd Qu.:0.09658   3rd Qu.:15.13  \n",
       " Max.   :2015   Max.   :9.831   Max.   :0.13292   Max.   :15.57  \n",
       " land_max_temp_unc land_min_temp   land_min_temp_unc land_ocean_temp\n",
       " Min.   :0.0785    Min.   :2.734   Min.   :0.1025    Min.   :15.12  \n",
       " 1st Qu.:0.1117    1st Qu.:3.116   1st Qu.:0.1198    1st Qu.:15.34  \n",
       " Median :0.1255    Median :3.376   Median :0.1353    Median :15.48  \n",
       " Mean   :0.1283    Mean   :3.408   Mean   :0.1394    Mean   :15.52  \n",
       " 3rd Qu.:0.1495    3rd Qu.:3.720   3rd Qu.:0.1511    3rd Qu.:15.75  \n",
       " Max.   :0.1845    Max.   :4.149   Max.   :0.2071    Max.   :16.06  \n",
       " land_ocean_temp_unc    co2_ppm      co2_season_adj     co2_fit     \n",
       " Min.   :0.04750     Min.   :315.3   Min.   :315.3   Min.   :315.3  \n",
       " 1st Qu.:0.05558     1st Qu.:328.0   1st Qu.:328.0   1st Qu.:328.0  \n",
       " Median :0.05904     Median :348.0   Median :348.0   Median :348.1  \n",
       " Mean   :0.05966     Mean   :351.0   Mean   :351.0   Mean   :351.0  \n",
       " 3rd Qu.:0.06313     3rd Qu.:370.6   3rd Qu.:370.6   3rd Qu.:370.6  \n",
       " Max.   :0.07450     Max.   :400.9   Max.   :400.9   Max.   :400.9  \n",
       " co2_season_adj_fit\n",
       " Min.   :315.2     \n",
       " 1st Qu.:328.0     \n",
       " Median :348.1     \n",
       " Mean   :351.0     \n",
       " 3rd Qu.:370.6     \n",
       " Max.   :400.9     "
      ]
     },
     "metadata": {},
     "output_type": "display_data"
    }
   ],
   "source": [
    "colSums(is.na(merged_df))\n",
    "summary(merged_df)"
   ]
  },
  {
   "cell_type": "markdown",
   "metadata": {},
   "source": [
    "# Section 3: Correlation Analysis\n",
    "Correlation analysis is a statistical method used to measure the strength and direction of a relationship between two variables.<br>\n",
    "The result is a correlation coefficient ranging from -1 to +1:<br>\n",
    "* +1: Perfect positive correlation (both increase together)\n",
    "* 0: No correlation\n",
    "* –1: Perfect negative correlation (one increases, the other decreases)\n",
    "\n",
    "We will be dealing with Pearson coefficient in this section"
   ]
  },
  {
   "cell_type": "markdown",
   "metadata": {},
   "source": [
    "**Q3.1 Calculate the Pearson correlation coefficient between the CO2 concentration and the different temperature metrics**"
   ]
  },
  {
   "cell_type": "code",
   "execution_count": 12,
   "metadata": {
    "execution": {
     "iopub.execute_input": "2025-09-05T11:33:19.369334Z",
     "iopub.status.busy": "2025-09-05T11:33:19.367769Z",
     "iopub.status.idle": "2025-09-05T11:33:19.386267Z",
     "shell.execute_reply": "2025-09-05T11:33:19.384151Z"
    },
    "trusted": true,
    "vscode": {
     "languageId": "r"
    }
   },
   "outputs": [
    {
     "data": {
      "text/html": [
       "0.902903649303398"
      ],
      "text/latex": [
       "0.902903649303398"
      ],
      "text/markdown": [
       "0.902903649303398"
      ],
      "text/plain": [
       "[1] 0.9029036"
      ]
     },
     "metadata": {},
     "output_type": "display_data"
    }
   ],
   "source": [
    "\n",
    "cor(merged_df$co2_ppm, merged_df$land_temp, use = \"complete.obs\", method = \"pearson\")"
   ]
  },
  {
   "cell_type": "code",
   "execution_count": 13,
   "metadata": {
    "execution": {
     "iopub.execute_input": "2025-09-05T11:33:19.390645Z",
     "iopub.status.busy": "2025-09-05T11:33:19.389098Z",
     "iopub.status.idle": "2025-09-05T11:33:19.414452Z",
     "shell.execute_reply": "2025-09-05T11:33:19.412659Z"
    },
    "trusted": true,
    "vscode": {
     "languageId": "r"
    }
   },
   "outputs": [
    {
     "name": "stdout",
     "output_type": "stream",
     "text": [
      "                  co2_ppm land_temp land_max_temp land_min_temp land_ocean_temp\n",
      "co2_ppm         1.0000000 0.9029036     0.8943414     0.8961389       0.9172674\n",
      "land_temp       0.9029036 1.0000000     0.9939320     0.9840653       0.9793789\n",
      "land_max_temp   0.8943414 0.9939320     1.0000000     0.9649772       0.9700077\n",
      "land_min_temp   0.8961389 0.9840653     0.9649772     1.0000000       0.9655311\n",
      "land_ocean_temp 0.9172674 0.9793789     0.9700077     0.9655311       1.0000000\n"
     ]
    }
   ],
   "source": [
    "# Select only numeric columns you want to compare\n",
    "cor_matrix <- cor(\n",
    "  merged_df %>% select(co2_ppm, land_temp, land_max_temp, land_min_temp, land_ocean_temp),\n",
    "  use = \"complete.obs\",\n",
    "  method = \"pearson\"\n",
    ")\n",
    "\n",
    "print(cor_matrix)\n"
   ]
  },
  {
   "cell_type": "markdown",
   "metadata": {},
   "source": [
    "**Q3.2 Visualise the values using line graphs and scatter plots for each temperature metric**"
   ]
  },
  {
   "cell_type": "code",
   "execution_count": 14,
   "metadata": {
    "execution": {
     "iopub.execute_input": "2025-09-05T11:33:19.418617Z",
     "iopub.status.busy": "2025-09-05T11:33:19.417166Z",
     "iopub.status.idle": "2025-09-05T11:33:22.169602Z",
     "shell.execute_reply": "2025-09-05T11:33:22.166811Z"
    },
    "trusted": true,
    "vscode": {
     "languageId": "r"
    }
   },
   "outputs": [
    {
     "name": "stderr",
     "output_type": "stream",
     "text": [
      "Warning message:\n",
      "“\u001b[1m\u001b[22mUsing `size` aesthetic for lines was deprecated in ggplot2 3.4.0.\n",
      "\u001b[36mℹ\u001b[39m Please use `linewidth` instead.”\n",
      "\u001b[1m\u001b[22m`geom_smooth()` using formula = 'y ~ x'\n"
     ]
    },
    {
     "data": {
      "image/png": "[encoded data removed]"
     },
     "metadata": {
      "image/png": {
       "height": 420,
       "width": 420
      }
     },
     "output_type": "display_data"
    },
    {
     "data": {
      "image/png": "[encoded data removed]"
     },
     "metadata": {
      "image/png": {
       "height": 420,
       "width": 420
      }
     },
     "output_type": "display_data"
    }
   ],
   "source": [
    "#Your code\n",
    "library(ggplot2)\n",
    "library(tidyr)\n",
    "library(dplyr)\n",
    "\n",
    "# First, reshape data for easier plotting\n",
    "temp_metrics <- merged_df %>%\n",
    "  select(year, land_temp, land_max_temp, land_min_temp, land_ocean_temp) %>%\n",
    "  pivot_longer(-year, names_to = \"metric\", values_to = \"temperature\")\n",
    "\n",
    "# Line plots of temperature metrics over years\n",
    "ggplot(temp_metrics, aes(x = year, y = temperature, color = metric)) +\n",
    "  geom_line(size = 1) +\n",
    "  geom_point() +\n",
    "  labs(title = \"Temperature Metrics Over Years\",\n",
    "       x = \"Year\",\n",
    "       y = \"Temperature (°C)\",\n",
    "       color = \"Metric\") +\n",
    "  theme_minimal()\n",
    "\n",
    "# Scatter plots of each temperature metric vs CO2\n",
    "scatter_plot <- merged_df %>%\n",
    "  select(year, co2_ppm, land_temp, land_max_temp, land_min_temp, land_ocean_temp) %>%\n",
    "  pivot_longer(cols = -c(year, co2_ppm), names_to = \"metric\", values_to = \"temperature\")\n",
    "\n",
    "ggplot(scatter_plot, aes(x = co2_ppm, y = temperature, color = metric)) +\n",
    "  geom_point(size = 2) +\n",
    "  geom_smooth(method = \"lm\", se = FALSE) +   # adds regression line\n",
    "  labs(title = \"Temperature Metrics vs CO2\",\n",
    "       x = \"CO2 Concentration (ppm)\",\n",
    "       y = \"Temperature (°C)\",\n",
    "       color = \"Metric\") +\n",
    "  theme_minimal()\n"
   ]
  },
  {
   "cell_type": "markdown",
   "metadata": {},
   "source": [
    "**Q3.3: Compare the strength of these correlations. Which temperature metric is most strongly associated with CO2? Why might that be?<br>\n",
    "Q3.4: Briefly explain the conceptual difference between Pearson correlation and Spearman's Rank Correlation. In what scenario might Spearman's correlation be more appropriate for analyzing the relationship between CO2 and temperature, even if they appear broadly linearly related?** <br>\n",
    "*Bonus: explore correlation calculation of monotonic values. (Kendall's tau relation)*\n"
   ]
  },
  {
   "cell_type": "code",
   "execution_count": 15,
   "metadata": {
    "execution": {
     "iopub.execute_input": "2025-09-05T11:33:22.176111Z",
     "iopub.status.busy": "2025-09-05T11:33:22.173914Z",
     "iopub.status.idle": "2025-09-05T11:33:22.209232Z",
     "shell.execute_reply": "2025-09-05T11:33:22.206934Z"
    },
    "trusted": true,
    "vscode": {
     "languageId": "r"
    }
   },
   "outputs": [
    {
     "data": {
      "text/html": [
       "<table class=\"dataframe\">\n",
       "<caption>A tibble: 1 × 4</caption>\n",
       "<thead>\n",
       "\t<tr><th scope=col>corr_land_temp</th><th scope=col>corr_land_max_temp</th><th scope=col>corr_land_min_temp</th><th scope=col>corr_land_ocean_temp</th></tr>\n",
       "\t<tr><th scope=col>&lt;dbl&gt;</th><th scope=col>&lt;dbl&gt;</th><th scope=col>&lt;dbl&gt;</th><th scope=col>&lt;dbl&gt;</th></tr>\n",
       "</thead>\n",
       "<tbody>\n",
       "\t<tr><td>0.9029036</td><td>0.8943414</td><td>0.8961389</td><td>0.9172674</td></tr>\n",
       "</tbody>\n",
       "</table>\n"
      ],
      "text/latex": [
       "A tibble: 1 × 4\n",
       "\\begin{tabular}{llll}\n",
       " corr\\_land\\_temp & corr\\_land\\_max\\_temp & corr\\_land\\_min\\_temp & corr\\_land\\_ocean\\_temp\\\\\n",
       " <dbl> & <dbl> & <dbl> & <dbl>\\\\\n",
       "\\hline\n",
       "\t 0.9029036 & 0.8943414 & 0.8961389 & 0.9172674\\\\\n",
       "\\end{tabular}\n"
      ],
      "text/markdown": [
       "\n",
       "A tibble: 1 × 4\n",
       "\n",
       "| corr_land_temp &lt;dbl&gt; | corr_land_max_temp &lt;dbl&gt; | corr_land_min_temp &lt;dbl&gt; | corr_land_ocean_temp &lt;dbl&gt; |\n",
       "|---|---|---|---|\n",
       "| 0.9029036 | 0.8943414 | 0.8961389 | 0.9172674 |\n",
       "\n"
      ],
      "text/plain": [
       "  corr_land_temp corr_land_max_temp corr_land_min_temp corr_land_ocean_temp\n",
       "1 0.9029036      0.8943414          0.8961389          0.9172674           "
      ]
     },
     "metadata": {},
     "output_type": "display_data"
    }
   ],
   "source": [
    "#Your answer\n",
    "# Compute Pearson correlations\n",
    "cor_results <- merged_df %>%\n",
    "  summarise(\n",
    "    corr_land_temp = cor(co2_ppm, land_temp, use = \"complete.obs\", method = \"pearson\"),\n",
    "    corr_land_max_temp = cor(co2_ppm, land_max_temp, use = \"complete.obs\", method = \"pearson\"),\n",
    "    corr_land_min_temp = cor(co2_ppm, land_min_temp, use = \"complete.obs\", method = \"pearson\"),\n",
    "    corr_land_ocean_temp = cor(co2_ppm, land_ocean_temp, use = \"complete.obs\", method = \"pearson\")\n",
    "  )\n",
    "\n",
    "cor_results\n"
   ]
  },
  {
   "cell_type": "markdown",
   "metadata": {},
   "source": [
    "Pearson vs Spearman Correlation\n",
    "\n",
    "Pearson Correlation\n",
    "\n",
    "Measures the strength and direction of a linear relationship between two continuous variables.\n",
    "Sensitive to outliers and assumes the relationship is linear.\n",
    "Value ranges from -1 (perfect negative linear) to +1 (perfect positive linear).\n",
    "\n",
    "Spearman's Rank Correlation\n",
    "\n",
    "Measures the strength and direction of a monotonic relationship (variables move in the same direction but not necessarily linearly).\n",
    "Based on ranked values, so less sensitive to outliers and non-normal distributions.\n",
    "Useful when the relationship is non-linear but monotonic.\n",
    "\n",
    "Scenario for using Spearman with CO2 and temperature:\n",
    "Even if CO2 and temperature appear broadly linear, small deviations, outliers, or non-linear trends (like accelerated warming at higher CO2 levels) may make Spearman more reliable for capturing the overall monotonic trend."
   ]
  },
  {
   "cell_type": "code",
   "execution_count": 16,
   "metadata": {
    "execution": {
     "iopub.execute_input": "2025-09-05T11:33:22.214653Z",
     "iopub.status.busy": "2025-09-05T11:33:22.213086Z",
     "iopub.status.idle": "2025-09-05T11:33:22.247047Z",
     "shell.execute_reply": "2025-09-05T11:33:22.245272Z"
    },
    "trusted": true,
    "vscode": {
     "languageId": "r"
    }
   },
   "outputs": [
    {
     "data": {
      "text/html": [
       "<table class=\"dataframe\">\n",
       "<caption>A tibble: 1 × 4</caption>\n",
       "<thead>\n",
       "\t<tr><th scope=col>tau_land_temp</th><th scope=col>tau_land_max_temp</th><th scope=col>tau_land_min_temp</th><th scope=col>tau_land_ocean_temp</th></tr>\n",
       "\t<tr><th scope=col>&lt;dbl&gt;</th><th scope=col>&lt;dbl&gt;</th><th scope=col>&lt;dbl&gt;</th><th scope=col>&lt;dbl&gt;</th></tr>\n",
       "</thead>\n",
       "<tbody>\n",
       "\t<tr><td>0.6721113</td><td>0.6636419</td><td>0.707199</td><td>0.7180883</td></tr>\n",
       "</tbody>\n",
       "</table>\n"
      ],
      "text/latex": [
       "A tibble: 1 × 4\n",
       "\\begin{tabular}{llll}\n",
       " tau\\_land\\_temp & tau\\_land\\_max\\_temp & tau\\_land\\_min\\_temp & tau\\_land\\_ocean\\_temp\\\\\n",
       " <dbl> & <dbl> & <dbl> & <dbl>\\\\\n",
       "\\hline\n",
       "\t 0.6721113 & 0.6636419 & 0.707199 & 0.7180883\\\\\n",
       "\\end{tabular}\n"
      ],
      "text/markdown": [
       "\n",
       "A tibble: 1 × 4\n",
       "\n",
       "| tau_land_temp &lt;dbl&gt; | tau_land_max_temp &lt;dbl&gt; | tau_land_min_temp &lt;dbl&gt; | tau_land_ocean_temp &lt;dbl&gt; |\n",
       "|---|---|---|---|\n",
       "| 0.6721113 | 0.6636419 | 0.707199 | 0.7180883 |\n",
       "\n"
      ],
      "text/plain": [
       "  tau_land_temp tau_land_max_temp tau_land_min_temp tau_land_ocean_temp\n",
       "1 0.6721113     0.6636419         0.707199          0.7180883          "
      ]
     },
     "metadata": {},
     "output_type": "display_data"
    }
   ],
   "source": [
    "# Compute Kendall's tau correlations\n",
    "kendall_results <- merged_df %>%\n",
    "  summarise(\n",
    "    tau_land_temp = cor(co2_ppm, land_temp, use = \n",
    "                        \"complete.obs\", method = \"kendall\"),\n",
    "    tau_land_max_temp = cor(co2_ppm, land_max_temp, use = \"complete.obs\", method = \"kendall\"),\n",
    "    tau_land_min_temp = cor(co2_ppm, land_min_temp, use = \"complete.obs\", method = \"kendall\"),\n",
    "    tau_land_ocean_temp = cor(co2_ppm, land_ocean_temp, use = \"complete.obs\", method = \"kendall\")\n",
    "  )\n",
    "\n",
    "kendall_results"
   ]
  },
  {
   "cell_type": "markdown",
   "metadata": {},
   "source": [
    "# Section 4: Hidden Variable and Causation"
   ]
  },
  {
   "cell_type": "markdown",
   "metadata": {},
   "source": [
    "**Q4.1: While our analysis shows a strong correlation between Yearly_CO2_Concentration and GlobalAverageTemperature, can we definitively say that increasing CO2 causes the temperature to rise based solely on this correlation? Explain your reasoning and discuss why correlation does not imply causation.** <br><br>\n",
    "\n",
    "*Even though our correlation analysis shows a strong relationship between yearly CO₂ concentration and global average temperature, we cannot claim causation based solely on correlation.Correlation ≠ Causation: Correlation only shows that two variables move together, but not why.There could be hidden variables (confounders) influencing both CO₂ and temperature.For example, industrialization simultaneously increases CO₂ emissions and other pollutants that can alter temperature.Thus, while correlation supports the hypothesis, causation is established through physics + multiple lines of evidence, not correlation alone.*\n",
    "\n",
    "<br><br><br>\n",
    "**Q4.2: Beyond CO2, what other factors or \"hidden variables\" might influence global average temperatures? Briefly discuss how these factors could potentially make the relationship between CO2 and temperature seem more or less strong if not considered.**<br><br>\n",
    "\n",
    "*Beyond CO₂, there are multiple hidden variables that can influence global average temperature:\n",
    "Solar Irradiance\n",
    "Changes in the Sun’s energy output can warm or cool Earth.\n",
    "If ignored, temperature changes might be wrongly attributed solely to CO₂.\n",
    "Volcanic Activity\n",
    "Large eruptions inject aerosols into the atmosphere, reflecting sunlight and causing temporary cooling.\n",
    "Could weaken the apparent CO₂–temperature relationship during certain decades.\n",
    "Aerosols & Air Pollution\n",
    "Human-emitted aerosols (sulfates, particulates) can have a cooling effect by reflecting sunlight.\n",
    "Without accounting for them, CO₂’s warming effect might seem less strong.\n",
    "Ocean Cycles (ENSO, AMO, PDO)\n",
    "Cyclical changes in ocean currents redistribute heat, causing short-term fluctuations in global temperature.\n",
    "Can make the CO₂–temperature relationship appear noisy in the short term.\n",
    "Land Use Change\n",
    "Deforestation, urbanization, and agriculture alter Earth’s surface albedo (reflectivity), affecting warming.*\n",
    "\n",
    "Impact on correlation:\n",
    "\n",
    "*Ignoring these variables could either inflate (e.g., coinciding warming from solar activity) or dampen (e.g., volcanic cooling) the apparent CO₂–temperature relationship.*\n"
   ]
  },
  {
   "cell_type": "markdown",
   "metadata": {},
   "source": [
    "# Section 5: Missing Data Mechanisms"
   ]
  },
  {
   "cell_type": "markdown",
   "metadata": {},
   "source": [
    "**Q5.1 From the dataset snippet identify missing data as Missing Completely At Random (MCAR), Missing At Random (MAR) and Missing Not At Random (MNAR). Justify** <br>\n",
    "*Hint: read up about ozone sensors to answer this question*"
   ]
  },
  {
   "cell_type": "code",
   "execution_count": 25,
   "metadata": {
    "execution": {
     "iopub.execute_input": "2025-09-05T11:41:07.874175Z",
     "iopub.status.busy": "2025-09-05T11:41:07.872593Z",
     "iopub.status.idle": "2025-09-05T11:41:07.910908Z",
     "shell.execute_reply": "2025-09-05T11:41:07.908550Z"
    },
    "trusted": true,
    "vscode": {
     "languageId": "r"
    }
   },
   "outputs": [
    {
     "name": "stdout",
     "output_type": "stream",
     "text": [
      "'data.frame':\t5 obs. of  4 variables:\n",
      " $ Station_ID       : chr  \"ST001\" \"ST002\" \"ST003\" \"ST004\" ...\n",
      " $ Location_Type    : chr  \"Urban\" \"Urban\" \"Rural\" \"Urban\" ...\n",
      " $ Humidity....     : int  45 90 35 85 50\n",
      " $ Ozone_Level..ppb.: chr  \"30\" \"missing\" \"25\" \"missing\" ...\n"
     ]
    },
    {
     "data": {
      "text/plain": [
       "  Station_ID        Location_Type       Humidity.... Ozone_Level..ppb. \n",
       " Length:5           Length:5           Min.   :35    Length:5          \n",
       " Class :character   Class :character   1st Qu.:45    Class :character  \n",
       " Mode  :character   Mode  :character   Median :50    Mode  :character  \n",
       "                                       Mean   :61                      \n",
       "                                       3rd Qu.:85                      \n",
       "                                       Max.   :90                      "
      ]
     },
     "metadata": {},
     "output_type": "display_data"
    },
    {
     "data": {
      "text/html": [
       "<style>\n",
       ".dl-inline {width: auto; margin:0; padding: 0}\n",
       ".dl-inline>dt, .dl-inline>dd {float: none; width: auto; display: inline-block}\n",
       ".dl-inline>dt::after {content: \":\\0020\"; padding-right: .5ex}\n",
       ".dl-inline>dt:not(:first-of-type) {padding-left: .5ex}\n",
       "</style><dl class=dl-inline><dt>Station_ID</dt><dd>0</dd><dt>Location_Type</dt><dd>0</dd><dt>Humidity....</dt><dd>0</dd><dt>Ozone_Level..ppb.</dt><dd>0</dd></dl>\n"
      ],
      "text/latex": [
       "\\begin{description*}\n",
       "\\item[Station\\textbackslash{}\\_ID] 0\n",
       "\\item[Location\\textbackslash{}\\_Type] 0\n",
       "\\item[Humidity....] 0\n",
       "\\item[Ozone\\textbackslash{}\\_Level..ppb.] 0\n",
       "\\end{description*}\n"
      ],
      "text/markdown": [
       "Station_ID\n",
       ":   0Location_Type\n",
       ":   0Humidity....\n",
       ":   0Ozone_Level..ppb.\n",
       ":   0\n",
       "\n"
      ],
      "text/plain": [
       "       Station_ID     Location_Type      Humidity.... Ozone_Level..ppb. \n",
       "                0                 0                 0                 0 "
      ]
     },
     "metadata": {},
     "output_type": "display_data"
    }
   ],
   "source": [
    "# Load dataset\n",
    "data <- read.csv(\"/kaggle/input/missing-data/missing_data.csv\")\n",
    "\n",
    "str(data)\n",
    "summary(data)\n",
    "colSums(is.na(data))"
   ]
  },
  {
   "cell_type": "code",
   "execution_count": 27,
   "metadata": {
    "execution": {
     "iopub.execute_input": "2025-09-05T11:41:19.274588Z",
     "iopub.status.busy": "2025-09-05T11:41:19.272932Z",
     "iopub.status.idle": "2025-09-05T11:41:19.301389Z",
     "shell.execute_reply": "2025-09-05T11:41:19.298817Z"
    },
    "trusted": true,
    "vscode": {
     "languageId": "r"
    }
   },
   "outputs": [
    {
     "data": {
      "text/html": [
       "<table class=\"dataframe\">\n",
       "<caption>A data.frame: 5 × 4</caption>\n",
       "<thead>\n",
       "\t<tr><th></th><th scope=col>Station_ID</th><th scope=col>Location_Type</th><th scope=col>Humidity....</th><th scope=col>Ozone_Level..ppb.</th></tr>\n",
       "\t<tr><th></th><th scope=col>&lt;chr&gt;</th><th scope=col>&lt;chr&gt;</th><th scope=col>&lt;int&gt;</th><th scope=col>&lt;chr&gt;</th></tr>\n",
       "</thead>\n",
       "<tbody>\n",
       "\t<tr><th scope=row>1</th><td>ST001</td><td>Urban</td><td>45</td><td>30     </td></tr>\n",
       "\t<tr><th scope=row>2</th><td>ST002</td><td>Urban</td><td>90</td><td>missing</td></tr>\n",
       "\t<tr><th scope=row>3</th><td>ST003</td><td>Rural</td><td>35</td><td>25     </td></tr>\n",
       "\t<tr><th scope=row>4</th><td>ST004</td><td>Urban</td><td>85</td><td>missing</td></tr>\n",
       "\t<tr><th scope=row>5</th><td>ST005</td><td>Rural</td><td>50</td><td>28     </td></tr>\n",
       "</tbody>\n",
       "</table>\n"
      ],
      "text/latex": [
       "A data.frame: 5 × 4\n",
       "\\begin{tabular}{r|llll}\n",
       "  & Station\\_ID & Location\\_Type & Humidity.... & Ozone\\_Level..ppb.\\\\\n",
       "  & <chr> & <chr> & <int> & <chr>\\\\\n",
       "\\hline\n",
       "\t1 & ST001 & Urban & 45 & 30     \\\\\n",
       "\t2 & ST002 & Urban & 90 & missing\\\\\n",
       "\t3 & ST003 & Rural & 35 & 25     \\\\\n",
       "\t4 & ST004 & Urban & 85 & missing\\\\\n",
       "\t5 & ST005 & Rural & 50 & 28     \\\\\n",
       "\\end{tabular}\n"
      ],
      "text/markdown": [
       "\n",
       "A data.frame: 5 × 4\n",
       "\n",
       "| <!--/--> | Station_ID &lt;chr&gt; | Location_Type &lt;chr&gt; | Humidity.... &lt;int&gt; | Ozone_Level..ppb. &lt;chr&gt; |\n",
       "|---|---|---|---|---|\n",
       "| 1 | ST001 | Urban | 45 | 30      |\n",
       "| 2 | ST002 | Urban | 90 | missing |\n",
       "| 3 | ST003 | Rural | 35 | 25      |\n",
       "| 4 | ST004 | Urban | 85 | missing |\n",
       "| 5 | ST005 | Rural | 50 | 28      |\n",
       "\n"
      ],
      "text/plain": [
       "  Station_ID Location_Type Humidity.... Ozone_Level..ppb.\n",
       "1 ST001      Urban         45           30               \n",
       "2 ST002      Urban         90           missing          \n",
       "3 ST003      Rural         35           25               \n",
       "4 ST004      Urban         85           missing          \n",
       "5 ST005      Rural         50           28               "
      ]
     },
     "metadata": {},
     "output_type": "display_data"
    }
   ],
   "source": [
    "head(data)"
   ]
  },
  {
   "cell_type": "markdown",
   "metadata": {},
   "source": [
    "The Ozone_Level missing data is most likely MAR, because it depends on the observed variable Location_Type (Urban).\n",
    "\n",
    "It is not MCAR, since missingness is not evenly distributed.\n",
    "\n",
    "It could be MNAR if the true (high) ozone values themselves cause the sensor failure — but that would need external domain knowledge about ozone sensors to confirm."
   ]
  }
 ],
 "metadata": {
  "kaggle": {
   "accelerator": "none",
   "dataSources": [
    {
     "datasetId": 947,
     "sourceId": 1734,
     "sourceType": "datasetVersion"
    },
    {
     "datasetId": 29,
     "sourceId": 2150,
     "sourceType": "datasetVersion"
    },
    {
     "datasetId": 7834637,
     "sourceId": 12421640,
     "sourceType": "datasetVersion"
    }
   ],
   "dockerImageVersionId": 30749,
   "isGpuEnabled": false,
   "isInternetEnabled": false,
   "language": "r",
   "sourceType": "notebook"
  },
  "kernelspec": {
   "display_name": "R",
   "language": "R",
   "name": "ir"
  },
  "language_info": {
   "codemirror_mode": "r",
   "file_extension": ".r",
   "mimetype": "text/x-r-source",
   "name": "R",
   "pygments_lexer": "r",
   "version": "4.4.0"
  }
 },
 "nbformat": 4,
 "nbformat_minor": 4
}
